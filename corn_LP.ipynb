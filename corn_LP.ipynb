{
 "cells": [
  {
   "cell_type": "markdown",
   "metadata": {},
   "source": [
    "# Action"
   ]
  },
  {
   "cell_type": "code",
   "execution_count": 3,
   "metadata": {
    "ExecuteTime": {
     "end_time": "2021-05-30T03:40:21.817185Z",
     "start_time": "2021-05-30T03:40:21.808210Z"
    }
   },
   "outputs": [],
   "source": [
    "import pulp\n",
    "import numpy as np\n",
    "# 生产问题"
   ]
  },
  {
   "cell_type": "code",
   "execution_count": 4,
   "metadata": {
    "ExecuteTime": {
     "end_time": "2021-05-30T03:45:22.386025Z",
     "start_time": "2021-05-30T03:45:22.375054Z"
    }
   },
   "outputs": [],
   "source": [
    "cost = np.array(\n",
    "[[500,550,630,1000,800,700],\n",
    "[800,700,600,950,900,930],\n",
    "[1000,960,840,650,600,700],\n",
    "[1200,1040,980,860,880,780]])"
   ]
  },
  {
   "cell_type": "code",
   "execution_count": 6,
   "metadata": {
    "ExecuteTime": {
     "end_time": "2021-05-30T03:47:08.431406Z",
     "start_time": "2021-05-30T03:47:08.422430Z"
    }
   },
   "outputs": [],
   "source": [
    "# 计划生产的面积\n",
    "max_farm = [76,88,96,40]\n",
    "# 每个地块的面积\n",
    "max_area = [42,56,44,39,60,59]"
   ]
  },
  {
   "cell_type": "code",
   "execution_count": 18,
   "metadata": {
    "ExecuteTime": {
     "end_time": "2021-05-30T04:06:22.449298Z",
     "start_time": "2021-05-30T04:06:22.430317Z"
    }
   },
   "outputs": [],
   "source": [
    "def farm_program(costs, max_farm, max_area):\n",
    "    row = len(costs)\n",
    "    col = len(costs[0])\n",
    "    # 定义问题\n",
    "    prob = pulp.LpProblem('Farm', sense=pulp.LpMaximize)\n",
    "    # 定义决策变量\n",
    "    var = [[pulp.LpVariable(f'x{i}{j}', lowBound=0) for j in range(col)] for i in range(row)]\n",
    "    # 递归列表展开\n",
    "    flatten = lambda x: [y for l in x for y in flatten(l)] if type(x) is list else [x]\n",
    "    # 定义目标函数（单价*{ij}数量）\n",
    "    prob += pulp.lpDot(flatten(var), costs.flatten())\n",
    "    # 定义约束条件\n",
    "    for i in range(row):\n",
    "        prob += pulp.lpSum(var[i]) <= max_farm[i]\n",
    "    for j in range(col):\n",
    "        prob += pulp.lpSum([var[i][j] for i in range(row)]) <= max_area[j]\n",
    "        \n",
    "    prob.solve()\n",
    "    print('目标值：', pulp.value(prob.objective))\n",
    "    print('决策变量：', [[pulp.value(var[i][j]) for j in range(col)] for i in range(row)])"
   ]
  },
  {
   "cell_type": "code",
   "execution_count": 19,
   "metadata": {
    "ExecuteTime": {
     "end_time": "2021-05-30T04:06:24.559622Z",
     "start_time": "2021-05-30T04:06:23.140418Z"
    }
   },
   "outputs": [
    {
     "name": "stdout",
     "output_type": "stream",
     "text": [
      "目标值： 284230.0\n",
      "决策变量： [[0.0, 0.0, 6.0, 39.0, 31.0, 0.0], [0.0, 0.0, 0.0, 0.0, 29.0, 59.0], [2.0, 56.0, 38.0, 0.0, 0.0, 0.0], [40.0, 0.0, 0.0, 0.0, 0.0, 0.0]]\n"
     ]
    }
   ],
   "source": [
    "result = farm_program(cost, max_farm, max_area)"
   ]
  },
  {
   "cell_type": "markdown",
   "metadata": {},
   "source": [
    "# Thinking\n",
    "## 常见的规划问题包括有哪些？\n",
    "\n",
    "常见的数学规划问题有线性规划（LP），非线性规划，整数规划，混合整数规划，多目标规划，动态规划。\n",
    "\n",
    "## 常用的规划工具有哪些？\n",
    "\n",
    "Scipy，Pulp，Ortools。\n",
    "\n",
    "## TSP和VRP问题的关系\n",
    "\n",
    "TSP全程是旅行商问题，是最基本的路线问题，该问题是在寻求单一旅行者由起点出发，通过所有给定的需求点之后，最后再回到原点的最小路径成本。VRP全程车辆路径问题，最早是由Dantzig和Ramser于1959年首次提出，它是指一定数量的客户，各自有不同数量的货物需求，配送中心向客户提供货物，由一个车队负责分送货物，组织适当的行车路线，目标是使得客户的需求得到满足，并能在一定的约束下，达到诸如路程最短、成本最小、耗费时间最少等目的。  \n",
    "TSP是单一旅行者，而VRP是多个旅行者，相对来说VRP是TSP的升级，算是一个NP难问题。"
   ]
  },
  {
   "cell_type": "code",
   "execution_count": null,
   "metadata": {},
   "outputs": [],
   "source": []
  }
 ],
 "metadata": {
  "kernelspec": {
   "display_name": "rs",
   "language": "python",
   "name": "rs"
  },
  "language_info": {
   "codemirror_mode": {
    "name": "ipython",
    "version": 3
   },
   "file_extension": ".py",
   "mimetype": "text/x-python",
   "name": "python",
   "nbconvert_exporter": "python",
   "pygments_lexer": "ipython3",
   "version": "3.8.5"
  },
  "toc": {
   "base_numbering": 1,
   "nav_menu": {},
   "number_sections": true,
   "sideBar": true,
   "skip_h1_title": false,
   "title_cell": "Table of Contents",
   "title_sidebar": "Contents",
   "toc_cell": false,
   "toc_position": {},
   "toc_section_display": true,
   "toc_window_display": false
  },
  "varInspector": {
   "cols": {
    "lenName": 16,
    "lenType": 16,
    "lenVar": 40
   },
   "kernels_config": {
    "python": {
     "delete_cmd_postfix": "",
     "delete_cmd_prefix": "del ",
     "library": "var_list.py",
     "varRefreshCmd": "print(var_dic_list())"
    },
    "r": {
     "delete_cmd_postfix": ") ",
     "delete_cmd_prefix": "rm(",
     "library": "var_list.r",
     "varRefreshCmd": "cat(var_dic_list()) "
    }
   },
   "types_to_exclude": [
    "module",
    "function",
    "builtin_function_or_method",
    "instance",
    "_Feature"
   ],
   "window_display": false
  }
 },
 "nbformat": 4,
 "nbformat_minor": 4
}
